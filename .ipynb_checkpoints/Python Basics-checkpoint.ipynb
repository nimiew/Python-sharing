{
 "cells": [
  {
   "cell_type": "markdown",
   "metadata": {},
   "source": [
    "# Python Basics"
   ]
  },
  {
   "cell_type": "markdown",
   "metadata": {},
   "source": [
    "## Integer"
   ]
  },
  {
   "cell_type": "code",
   "execution_count": 1,
   "metadata": {},
   "outputs": [
    {
     "name": "stdout",
     "output_type": "stream",
     "text": [
      "2 + 7 = 9\n",
      "2 - 7 = 9\n",
      "2 * 7 = 9\n",
      "2 / 7 = 9\n",
      "7 // 2 = 3\n",
      "7 / 2 = 3.5\n"
     ]
    }
   ],
   "source": [
    "a = 2\n",
    "b = 7\n",
    "print(f\"{a} + {b} = {a+b}\")\n",
    "print(f\"{a} - {b} = {a+b}\")\n",
    "print(f\"{a} * {b} = {a+b}\")\n",
    "print(f\"{a} / {b} = {a+b}\")\n",
    "print(f\"{b} // {a} = {b//a}\")\n",
    "print(f\"{b} / {a} = {b/a}\")"
   ]
  },
  {
   "cell_type": "code",
   "execution_count": 2,
   "metadata": {},
   "outputs": [
    {
     "name": "stdout",
     "output_type": "stream",
     "text": [
      "100100100111\n"
     ]
    }
   ],
   "source": [
    "# binary form for +ve integers\n",
    "print(bin(2343)[2:])"
   ]
  },
  {
   "cell_type": "code",
   "execution_count": 3,
   "metadata": {},
   "outputs": [
    {
     "name": "stdout",
     "output_type": "stream",
     "text": [
      "-100100100111\n"
     ]
    }
   ],
   "source": [
    "# binary form for -ve integers\n",
    "# if you need 2's complement, https://stackoverflow.com/questions/1604464/twos-complement-in-python\n",
    "print(\"-\" + bin(-2343)[3:])"
   ]
  },
  {
   "cell_type": "markdown",
   "metadata": {},
   "source": [
    "## Float"
   ]
  },
  {
   "cell_type": "code",
   "execution_count": 4,
   "metadata": {},
   "outputs": [],
   "source": [
    "# float\n",
    "x = 2.3"
   ]
  },
  {
   "cell_type": "code",
   "execution_count": 5,
   "metadata": {},
   "outputs": [
    {
     "name": "stdout",
     "output_type": "stream",
     "text": [
      "3\n",
      "4\n",
      "3\n",
      "3.0\n",
      "-4\n",
      "-3\n",
      "-3\n",
      "-4.0\n"
     ]
    }
   ],
   "source": [
    "# rounding off\n",
    "import math\n",
    "print(math.floor(3.5))\n",
    "print(math.ceil(3.5))\n",
    "print(int(3.5))\n",
    "print(3.5//1)\n",
    "print(math.floor(-3.5))\n",
    "print(math.ceil(-3.5))\n",
    "print(int(-3.5))\n",
    "print(-3.5//1)"
   ]
  },
  {
   "cell_type": "code",
   "execution_count": 6,
   "metadata": {},
   "outputs": [
    {
     "data": {
      "text/plain": [
       "True"
      ]
     },
     "execution_count": 6,
     "metadata": {},
     "output_type": "execute_result"
    }
   ],
   "source": [
    "# check if 2 floats are equal\n",
    "# https://stackoverflow.com/questions/39632182/which-is-the-fastest-way-to-compare-two-float-value-in-python\n",
    "def are_float_equal(f1, f2, eps=10e-9):\n",
    "    return abs(f1 - f2) < eps\n",
    "are_float_equal(0.30000001, 0.01*30)"
   ]
  },
  {
   "cell_type": "markdown",
   "metadata": {},
   "source": [
    "## String"
   ]
  },
  {
   "cell_type": "markdown",
   "metadata": {},
   "source": [
    "An immutable ordered sequence of characters"
   ]
  },
  {
   "cell_type": "code",
   "execution_count": 7,
   "metadata": {},
   "outputs": [
    {
     "name": "stdout",
     "output_type": "stream",
     "text": [
      "h\n",
      "l\n",
      "o\n",
      "ll\n",
      "ello\n",
      "hel\n",
      "olleh\n",
      "hlo\n"
     ]
    }
   ],
   "source": [
    "# string\n",
    "x = \"hello\"\n",
    "\n",
    "# indexing\n",
    "print(x[0])\n",
    "print(x[2])\n",
    "print(x[-1])\n",
    "\n",
    "# slicing arr[start(inclusive):end(exclusive):<jump by>]\n",
    "# for detailed explanation: https://towardsdatascience.com/the-basics-of-indexing-and-slicing-python-lists-2d12c90a94cf\n",
    "print(x[2:4])\n",
    "print(x[1:]) # everything from 2nd char onwards inclusive\n",
    "print(x[:-2]) # everything before 2nd last char exclusive\n",
    "print(x[::-1]) # common way to create copy that is reverse of original\n",
    "print(x[::2])"
   ]
  },
  {
   "cell_type": "code",
   "execution_count": 8,
   "metadata": {},
   "outputs": [
    {
     "name": "stdout",
     "output_type": "stream",
     "text": [
      "abcd\n"
     ]
    }
   ],
   "source": [
    "# string are immutable, aka cannot change in place\n",
    "# to add to a string, concat another string to it; O(n) operation\n",
    "s1 = \"abc\"\n",
    "s2 = \"d\"\n",
    "s1 += s2\n",
    "print(s1)"
   ]
  },
  {
   "cell_type": "code",
   "execution_count": 9,
   "metadata": {},
   "outputs": [
    {
     "name": "stdout",
     "output_type": "stream",
     "text": [
      "0123456789\n",
      "0123456789\n"
     ]
    }
   ],
   "source": [
    "# for concatenating many strings, use join to get O(n)\n",
    "# in reality, python optimized \"+\" s.t only for many strings \"join\" will be faster\n",
    "res = \"\"\n",
    "for i in range(10):\n",
    "    res += str(i)\n",
    "print(res)\n",
    "# vs\n",
    "res = \"\".join(str(i) for i in range(10))\n",
    "print(res)\n",
    "# doesn't matter much unless you are doing coding interview"
   ]
  },
  {
   "cell_type": "markdown",
   "metadata": {},
   "source": [
    "## List"
   ]
  },
  {
   "cell_type": "markdown",
   "metadata": {},
   "source": [
    "An ordered mutable sequence of elements"
   ]
  },
  {
   "cell_type": "code",
   "execution_count": 10,
   "metadata": {},
   "outputs": [
    {
     "name": "stdout",
     "output_type": "stream",
     "text": [
      "[3]\n",
      "[3, 4]\n",
      "4\n",
      "[3]\n"
     ]
    }
   ],
   "source": [
    "# list (dynamic array)\n",
    "# size grows and shrinks as you add and remove elements\n",
    "# many operations on string work on array as well\n",
    "# mutable, unlike string\n",
    "a = []\n",
    "a.append(3)\n",
    "print(a)\n",
    "a.append(4)\n",
    "print(a)\n",
    "last_ele = a.pop() # pop(i) is O(n) on average. But if only using pop(), which pops the last, it is O(1)\n",
    "print(last_ele)\n",
    "print(a)\n",
    "# common mistake\n",
    "a = a.append(10) # a becomes None"
   ]
  },
  {
   "cell_type": "code",
   "execution_count": 11,
   "metadata": {},
   "outputs": [
    {
     "name": "stdout",
     "output_type": "stream",
     "text": [
      "[1]\n",
      "[1, 2, 3, 5]\n",
      "[1, 2, 3, 5, 'a', 'h', 'r']\n",
      "[1, 2, 3, 5]\n"
     ]
    }
   ],
   "source": [
    "# more common functions\n",
    "a = [1]\n",
    "print(a)\n",
    "a.extend([2, 3, 5]) # in place\n",
    "print(a)\n",
    "print(a + ['a', 'h', 'r']) # is NOT in place, return new array\n",
    "print(a)\n",
    "# a.extend([1, 2, 3]) is somewhat the same as a = a + [1, 2, 3]\n",
    "# a.append(1) is somewhat the same as a = a + [1]"
   ]
  },
  {
   "cell_type": "code",
   "execution_count": 12,
   "metadata": {},
   "outputs": [
    {
     "name": "stdout",
     "output_type": "stream",
     "text": [
      "['a', 'b', 'c', 'd', 'e', 'f', 'g', 'h', 'i', 'j', 'k', 'l', 'm', 'n', 'o', 'p', 'q', 'r', 's', 't', 'u', 'v', 'w', 'x', 'y', 'z']\n",
      "[1, 3, 5, 7, 9]\n",
      "[False, True, False, True, False, True, False, True, False, True]\n"
     ]
    }
   ],
   "source": [
    "# list comprehension (most useful feature in python)\n",
    "a = [chr(ord('a') + i) for i in range(26)]\n",
    "print(a)\n",
    "a = [i for i in range(10) if i % 2]\n",
    "print(a)\n",
    "is_odd = [True if i%2 else False for i in range(10)] # notice how if is at the front\n",
    "print(is_odd)"
   ]
  },
  {
   "cell_type": "code",
   "execution_count": 13,
   "metadata": {},
   "outputs": [
    {
     "data": {
      "text/plain": [
       "[[0, 1, 2, 3, 4],\n",
       " [5, 6, 7, 8, 9],\n",
       " [10, 11, 12, 13, 14],\n",
       " [15, 16, 17, 18, 19],\n",
       " [20, 21, 22, 23, 24],\n",
       " [25, 26, 27, 28, 29],\n",
       " [30, 31, 32, 33, 34],\n",
       " [35, 36, 37, 38, 39],\n",
       " [40, 41, 42, 43, 44],\n",
       " [45, 46, 47, 48, 49]]"
      ]
     },
     "execution_count": 13,
     "metadata": {},
     "output_type": "execute_result"
    }
   ],
   "source": [
    "# E.g. build matrix\n",
    "matrix = [[5*i + j for j in range(5)] for i in range(10)]\n",
    "matrix"
   ]
  },
  {
   "cell_type": "code",
   "execution_count": 14,
   "metadata": {},
   "outputs": [
    {
     "data": {
      "text/plain": [
       "[[False, False, False, False, False],\n",
       " [False, False, False, False, False],\n",
       " [False, False, False, False, False],\n",
       " [False, False, False, False, False],\n",
       " [False, False, False, False, False],\n",
       " [False, False, False, False, False],\n",
       " [False, False, False, False, False],\n",
       " [False, False, False, False, False],\n",
       " [False, False, False, False, False],\n",
       " [False, False, False, False, False]]"
      ]
     },
     "execution_count": 14,
     "metadata": {},
     "output_type": "execute_result"
    }
   ],
   "source": [
    "# E.g. make visited matrix\n",
    "# Here, we introduce using \"*\" to make list\n",
    "visited = [[False] * 5 for _ in range(10)]\n",
    "visited"
   ]
  },
  {
   "cell_type": "code",
   "execution_count": 15,
   "metadata": {},
   "outputs": [
    {
     "data": {
      "text/plain": [
       "[[True, False, False, False, False],\n",
       " [False, False, False, False, False],\n",
       " [False, False, False, False, False],\n",
       " [False, False, False, True, False],\n",
       " [False, False, False, False, False],\n",
       " [False, False, False, False, False],\n",
       " [False, False, False, False, False],\n",
       " [False, False, False, False, False],\n",
       " [False, False, False, False, False],\n",
       " [False, False, False, False, False]]"
      ]
     },
     "execution_count": 15,
     "metadata": {},
     "output_type": "execute_result"
    }
   ],
   "source": [
    "visited[0][0] = True\n",
    "visited[3][3] = True\n",
    "visited"
   ]
  },
  {
   "cell_type": "code",
   "execution_count": 16,
   "metadata": {},
   "outputs": [],
   "source": [
    "# Question, why can't we do this\n",
    "visited = [[False] * 5] * 10"
   ]
  },
  {
   "cell_type": "code",
   "execution_count": 17,
   "metadata": {},
   "outputs": [
    {
     "name": "stdout",
     "output_type": "stream",
     "text": [
      "[True, False, False, False, False]\n",
      "[True, False, False, False, False]\n",
      "[True, False, False, False, False]\n",
      "[True, False, False, False, False]\n",
      "[True, False, False, False, False]\n",
      "[True, False, False, False, False]\n",
      "[True, False, False, False, False]\n",
      "[True, False, False, False, False]\n",
      "[True, False, False, False, False]\n",
      "[True, False, False, False, False]\n"
     ]
    }
   ],
   "source": [
    "visited[0][0] = True\n",
    "_ = [print(row) for row in visited]"
   ]
  },
  {
   "cell_type": "code",
   "execution_count": 18,
   "metadata": {},
   "outputs": [
    {
     "name": "stdout",
     "output_type": "stream",
     "text": [
      "2179325489664\n",
      "2179325489664\n",
      "2179325489664\n",
      "2179325489664\n",
      "2179325489664\n",
      "2179325489664\n",
      "2179325489664\n",
      "2179325489664\n",
      "2179325489664\n",
      "2179325489664\n"
     ]
    }
   ],
   "source": [
    "# Why did the entire column become True?\n",
    "# lets look at the memory address for each row\n",
    "for i in range(10):\n",
    "    print(id(visited[i]))\n",
    "# \"*\" actually duplicated the reference instead of creating a new copy of array"
   ]
  },
  {
   "cell_type": "code",
   "execution_count": 19,
   "metadata": {},
   "outputs": [
    {
     "name": "stdout",
     "output_type": "stream",
     "text": [
      "[[5], [9], [5], [9], [5], [9], [5], [9], [5], [9]]\n",
      "[[2], [9], [2], [9], [2], [9], [2], [9], [2], [9]]\n"
     ]
    }
   ],
   "source": [
    "# Another example\n",
    "x = [[5], [9]] * 5\n",
    "print(x)\n",
    "x[0][0] = 2\n",
    "print(x)"
   ]
  },
  {
   "cell_type": "code",
   "execution_count": 20,
   "metadata": {},
   "outputs": [],
   "source": [
    "# basically, * will duplicate reference instead of making copy\n",
    "# So these are ok\n",
    "a = [0] * 5\n",
    "a = [\"hi\"] * 5\n",
    "# This is not because you MAY get unintended side effects\n",
    "a = [[\"a\", \"c\", \"c\"]] * 5"
   ]
  },
  {
   "cell_type": "markdown",
   "metadata": {},
   "source": [
    "## Tuple"
   ]
  },
  {
   "cell_type": "markdown",
   "metadata": {},
   "source": [
    "Can think of it as immutable list\n",
    "\n",
    "Can also think of it as a string but can hold arbitrary objects\n",
    "\n",
    "Uses:\n",
    "1. You want to prevent mutation\n",
    "2. You want something that can be hashed\n"
   ]
  },
  {
   "cell_type": "code",
   "execution_count": 21,
   "metadata": {},
   "outputs": [],
   "source": [
    "# Basically a immutable list\n",
    "# Usually used when you need to hash a ordered sequence of things since list is not hashable\n",
    "# Better than string because like a list, it can store different data types"
   ]
  },
  {
   "cell_type": "code",
   "execution_count": 22,
   "metadata": {},
   "outputs": [
    {
     "name": "stdout",
     "output_type": "stream",
     "text": [
      "unhashable type: 'list'\n"
     ]
    }
   ],
   "source": [
    "d = {}\n",
    "try:\n",
    "    d[[\"a\", 0]] = 2\n",
    "except Exception as e:\n",
    "    print(e)"
   ]
  },
  {
   "cell_type": "code",
   "execution_count": 23,
   "metadata": {},
   "outputs": [
    {
     "name": "stdout",
     "output_type": "stream",
     "text": [
      "success\n"
     ]
    }
   ],
   "source": [
    "try:\n",
    "    d[(\"a\", 0)] = 2\n",
    "    print(\"success\")\n",
    "except Exception as e:\n",
    "    print(e)"
   ]
  },
  {
   "cell_type": "code",
   "execution_count": 24,
   "metadata": {},
   "outputs": [
    {
     "name": "stdout",
     "output_type": "stream",
     "text": [
      "(0, 1, 3, 4)\n",
      "(0, 1, 3)\n"
     ]
    }
   ],
   "source": [
    "# concatenating tuples\n",
    "print((0, 1) + (3, 4))\n",
    "# if one element\n",
    "# (0, 1) + (3) doesn't work\n",
    "# do this\n",
    "print((0, 1) + tuple([3]))"
   ]
  },
  {
   "cell_type": "markdown",
   "metadata": {},
   "source": [
    "## Set"
   ]
  },
  {
   "cell_type": "markdown",
   "metadata": {},
   "source": [
    "An unordered collection of hashable things\n",
    "\n",
    "Property 1: Won't have any duplicates\n",
    "\n",
    "Property 2: Order not guaranteed"
   ]
  },
  {
   "cell_type": "code",
   "execution_count": 25,
   "metadata": {},
   "outputs": [
    {
     "name": "stdout",
     "output_type": "stream",
     "text": [
      "{3, 5}\n",
      "{3, 5}\n",
      "<class 'dict'>\n"
     ]
    }
   ],
   "source": [
    "x = set()\n",
    "x.add(3)\n",
    "x.add(5)\n",
    "print(x)\n",
    "# alternatively, to create with elements\n",
    "x = {3, 5}\n",
    "print(x)\n",
    "# be careful, empty set must use set(), cannot use {} as {} is used to init empty dictionary\n",
    "print(type({}))"
   ]
  },
  {
   "cell_type": "code",
   "execution_count": 26,
   "metadata": {},
   "outputs": [
    {
     "name": "stdout",
     "output_type": "stream",
     "text": [
      "None\n",
      "{5}\n"
     ]
    }
   ],
   "source": [
    "# remove elements\n",
    "print(x.remove(3))\n",
    "print(x)"
   ]
  },
  {
   "cell_type": "code",
   "execution_count": 27,
   "metadata": {},
   "outputs": [
    {
     "name": "stdout",
     "output_type": "stream",
     "text": [
      "1\n"
     ]
    }
   ],
   "source": [
    "x = {1, 2, 3, 4}\n",
    "# remove a random item\n",
    "print(x.pop())"
   ]
  },
  {
   "cell_type": "code",
   "execution_count": 28,
   "metadata": {},
   "outputs": [
    {
     "name": "stdout",
     "output_type": "stream",
     "text": [
      "True\n",
      "1\n",
      "2\n",
      "3\n",
      "4\n"
     ]
    }
   ],
   "source": [
    "# most impt, check existence in O(1)\n",
    "x = {1, 2, 3, 4}\n",
    "print(1 in x)\n",
    "# you can iterate elements, but order may not be preserved\n",
    "for e in x:\n",
    "    print(e)"
   ]
  },
  {
   "cell_type": "code",
   "execution_count": 29,
   "metadata": {},
   "outputs": [
    {
     "name": "stdout",
     "output_type": "stream",
     "text": [
      "{1, 2, 3, 7}\n",
      "{2, 3}\n",
      "{7}\n"
     ]
    }
   ],
   "source": [
    "# you can perform set intersection/union/difference\n",
    "a = {1, 2, 3}\n",
    "b = {2, 3, 7}\n",
    "print(a | b) # union\n",
    "print(a & b) # intersecttion\n",
    "print(b - a) # everything in b that is not in a"
   ]
  },
  {
   "cell_type": "markdown",
   "metadata": {},
   "source": [
    "## Dictionary"
   ]
  },
  {
   "cell_type": "markdown",
   "metadata": {},
   "source": [
    "An ordered collection of key-value pairs for Python >= 3.6\n",
    "\n",
    "An unordered collection of key-value pairs for Python < 3.6\n",
    "\n",
    "Keys must be hashable, Values can be anything\n",
    "\n",
    "Tip: You can use dictionary as a linked list as python doesn't have linked list natively. This is useful when doing interview questions like LRU/LFU Cache"
   ]
  },
  {
   "cell_type": "code",
   "execution_count": 30,
   "metadata": {},
   "outputs": [
    {
     "name": "stdout",
     "output_type": "stream",
     "text": [
      "{0: 'neutral', -1: 'bad', 1: 'good'}\n"
     ]
    }
   ],
   "source": [
    "d = {0: \"neutral\", -1: \"bad\", 1: \"good\"}\n",
    "print(d)"
   ]
  },
  {
   "cell_type": "code",
   "execution_count": 31,
   "metadata": {},
   "outputs": [
    {
     "name": "stdout",
     "output_type": "stream",
     "text": [
      "0\n",
      "-1\n",
      "1\n"
     ]
    }
   ],
   "source": [
    "# Iterating keys\n",
    "for k in d:\n",
    "    print(k)"
   ]
  },
  {
   "cell_type": "code",
   "execution_count": 32,
   "metadata": {},
   "outputs": [
    {
     "name": "stdout",
     "output_type": "stream",
     "text": [
      "neutral\n",
      "bad\n",
      "good\n"
     ]
    }
   ],
   "source": [
    "# Iterating values\n",
    "for v in d.values():\n",
    "    print(v)"
   ]
  },
  {
   "cell_type": "code",
   "execution_count": 33,
   "metadata": {},
   "outputs": [
    {
     "name": "stdout",
     "output_type": "stream",
     "text": [
      "0 neutral\n",
      "-1 bad\n",
      "1 good\n"
     ]
    }
   ],
   "source": [
    "# Iterating key-value pairs\n",
    "for k, v in d.items():\n",
    "    print(k, v)"
   ]
  },
  {
   "cell_type": "code",
   "execution_count": 34,
   "metadata": {},
   "outputs": [
    {
     "name": "stdout",
     "output_type": "stream",
     "text": [
      "neutral\n"
     ]
    }
   ],
   "source": [
    "# Accessing value of key\n",
    "print(d[0])"
   ]
  },
  {
   "cell_type": "code",
   "execution_count": 35,
   "metadata": {},
   "outputs": [
    {
     "name": "stdout",
     "output_type": "stream",
     "text": [
      "hi\n"
     ]
    }
   ],
   "source": [
    "# Accessing value of key if exists, else return default\n",
    "print(d.get(-2, \"hi\"))"
   ]
  },
  {
   "cell_type": "code",
   "execution_count": 36,
   "metadata": {},
   "outputs": [
    {
     "name": "stdout",
     "output_type": "stream",
     "text": [
      "{0: 2, 2: 3, 3: 1, 1: 1, 6: 1}\n"
     ]
    }
   ],
   "source": [
    "# useful in many cases\n",
    "# E.g. getting count of each unique element\n",
    "counter = {}\n",
    "for ele in [0,0,2,2,2,3,1,6]:\n",
    "    counter[ele] = counter.get(ele, 0) + 1\n",
    "print(counter)"
   ]
  },
  {
   "cell_type": "code",
   "execution_count": 37,
   "metadata": {},
   "outputs": [
    {
     "name": "stdout",
     "output_type": "stream",
     "text": [
      "neighbours of 0 are [1, 2]\n",
      "neighbours of 1 are [0]\n",
      "neighbours of 2 are [1]\n"
     ]
    }
   ],
   "source": [
    "# dictionaries are used for graph representation w/ adjacency lists\n",
    "g = {\n",
    "    0: [1, 2],\n",
    "    1: [0],\n",
    "    2: [1]\n",
    "}\n",
    "_ = [print(f\"neighbours of {k} are {v}\") for k, v in g.items()]"
   ]
  },
  {
   "cell_type": "code",
   "execution_count": 38,
   "metadata": {},
   "outputs": [
    {
     "name": "stdout",
     "output_type": "stream",
     "text": [
      "5 c\n"
     ]
    }
   ],
   "source": [
    "# since dictionaries are ordered, we may want to get access to first/last key/values\n",
    "d = {2: \"a\", 7: \"b\", 5: \"c\"}\n",
    "\n",
    "# get last key/value in O(1)\n",
    "k, v = d.popitem()\n",
    "print(k, v)\n",
    "# can add back if you didn't want to delete the key\n",
    "d[k] = v\n",
    "\n",
    "# get first key in O(1)\n",
    "k = next(iter(d))\n",
    "# get first value\n",
    "v = d[k]\n",
    "# if you want to delete key\n",
    "del d[k]"
   ]
  },
  {
   "cell_type": "markdown",
   "metadata": {},
   "source": [
    "## Deque"
   ]
  },
  {
   "cell_type": "markdown",
   "metadata": {},
   "source": [
    "Recall that one weakness of list if that pop(0) is O(n)\n",
    "\n",
    "Deque gives you popleft(), appendleft() operations which cost O(1)"
   ]
  },
  {
   "cell_type": "code",
   "execution_count": 39,
   "metadata": {},
   "outputs": [],
   "source": [
    "from collections import deque"
   ]
  },
  {
   "cell_type": "code",
   "execution_count": 40,
   "metadata": {},
   "outputs": [],
   "source": [
    "dq = deque()"
   ]
  },
  {
   "cell_type": "code",
   "execution_count": 41,
   "metadata": {},
   "outputs": [
    {
     "name": "stdout",
     "output_type": "stream",
     "text": [
      "deque([-1, 10, 3])\n"
     ]
    }
   ],
   "source": [
    "dq.append(10)\n",
    "dq.append(3)\n",
    "dq.appendleft(-1)\n",
    "print(dq)"
   ]
  },
  {
   "cell_type": "code",
   "execution_count": 42,
   "metadata": {},
   "outputs": [
    {
     "name": "stdout",
     "output_type": "stream",
     "text": [
      "-1\n",
      "3\n",
      "deque([10])\n"
     ]
    }
   ],
   "source": [
    "print(dq.popleft())\n",
    "print(dq.pop())\n",
    "print(dq)"
   ]
  },
  {
   "cell_type": "markdown",
   "metadata": {},
   "source": [
    "## Heap"
   ]
  },
  {
   "cell_type": "markdown",
   "metadata": {},
   "source": [
    "Min heap:\n",
    "1. O(1) to get minimum value\n",
    "2. O(lg(n)) to remove minimum value\n",
    "3. O(lg(n)) to insert value\n",
    "\n",
    "Useful in interviews as it is tricky to implement heap on the spot"
   ]
  },
  {
   "cell_type": "code",
   "execution_count": 43,
   "metadata": {},
   "outputs": [],
   "source": [
    "import heapq"
   ]
  },
  {
   "cell_type": "code",
   "execution_count": 44,
   "metadata": {},
   "outputs": [
    {
     "name": "stdout",
     "output_type": "stream",
     "text": [
      "-19\n",
      "-19\n",
      "[0, 2, 2, 4, 2, 3, 3, 7, 4, 5, 4, 5]\n",
      "0\n",
      "2\n",
      "2\n",
      "2\n",
      "3\n",
      "3\n",
      "4\n",
      "4\n",
      "4\n",
      "5\n",
      "5\n",
      "7\n"
     ]
    }
   ],
   "source": [
    "arr = [0, 2, 3, 4, 5, 2, 3, 7, 4, 2, 4, 5]\n",
    "# create heap IN PLACE\n",
    "heapq.heapify(arr) # O(n)\n",
    "# add to heap # O(lg(n))\n",
    "heapq.heappush(arr, -19)\n",
    "# access smallest element in heap # O(1)\n",
    "print(arr[0])\n",
    "# remove smallest element in heap # O(lg(n))\n",
    "print(heapq.heappop(arr))\n",
    "print(arr) # notice arr is not sorted\n",
    "while arr:\n",
    "    print(heapq.heappop(arr)) # keep popping smallest. total O(nlg(n))"
   ]
  },
  {
   "cell_type": "markdown",
   "metadata": {},
   "source": [
    "Tip: If you need max heap for integers, you can pass in the negated value\n",
    "\n",
    "Each time you pop, make sure to take the negation again"
   ]
  },
  {
   "cell_type": "markdown",
   "metadata": {},
   "source": [
    "Tip to chang/delete existing value in heap:"
   ]
  },
  {
   "cell_type": "code",
   "execution_count": 45,
   "metadata": {},
   "outputs": [],
   "source": [
    "# Suppose we have a min heap of integers\n",
    "# Assume the elements are unique\n",
    "# 1. Wrap each integer as [value, valid]\n",
    "# e.g. [1, 3, 6] becomes [[1, True], [3, True], [6, True]]\n",
    "# 2. Use dictionary to map value to the wrapped version\n",
    "# e.g. {1: [1, True], 3: [3, True], 6: [6, True]}\n",
    "# When you want to delete value, check the dict to get refernce to wrapped element.\n",
    "#  Then change validity to false. Also delete key in the dictionary \n",
    "# When you pop, if validty if False, pop again\n",
    "# Edit value is just delete + insert\n",
    "# Amortized O(lg(n)) for insert/delete/edit/pop"
   ]
  },
  {
   "cell_type": "code",
   "execution_count": 46,
   "metadata": {},
   "outputs": [],
   "source": [
    "class ModifiedHeap:\n",
    "    def __init__(self, arr=[]):\n",
    "        self.heap = arr[:]\n",
    "        heapq.heapify(self.heap)\n",
    "        self.d = {}\n",
    "        self.size = 0\n",
    "        \n",
    "    def __len__(self):\n",
    "        return self.size\n",
    "    \n",
    "    def __repr__(self):\n",
    "        return [ele[0] for ele in self.heap if ele[1]].__repr__()\n",
    "    \n",
    "    def clear_deleted_elements_at_top(self):\n",
    "        while self.heap and not self.heap[0][1]:\n",
    "            heapq.heappop(self.heap)\n",
    "    \n",
    "    def get_min(self):\n",
    "        self.clear_deleted_elements_at_top()\n",
    "        if not self.heap:\n",
    "            raise Exception(\"Heap is empty\")\n",
    "        return self.heap[0][0]\n",
    "        \n",
    "    def add(self, val):\n",
    "        if val in self.d: # assume no duplicates\n",
    "            print(\"Ignored as value already exists\")\n",
    "            return\n",
    "        to_insert = [val, True]\n",
    "        self.d[val] = to_insert\n",
    "        heapq.heappush(self.heap, to_insert)\n",
    "        self.size += 1\n",
    "        \n",
    "    def pop(self):\n",
    "        self.clear_deleted_elements_at_top()\n",
    "        if not self.heap:\n",
    "            raise Exception(\"Illegal pop from empty heap\")\n",
    "        to_return = heapq.heappop(self.heap)[0]\n",
    "        del self.d[to_return]\n",
    "        self.size -= 1\n",
    "        return to_return\n",
    "    \n",
    "    def delete(self, val):\n",
    "        if val not in self.d:\n",
    "            raise Exception(f\"{val} not found\")\n",
    "        wrapped = self.d[val]\n",
    "        del self.d[val]\n",
    "        wrapped[1] = False\n",
    "        self.size -= 1\n",
    "    \n",
    "    def change(self, old_val, new_val):\n",
    "        self.delete(old_val)\n",
    "        self.add(new_val)\n"
   ]
  },
  {
   "cell_type": "code",
   "execution_count": 47,
   "metadata": {},
   "outputs": [],
   "source": [
    "heap = ModifiedHeap()\n",
    "heap.add(1) # [1 .. ]\n",
    "assert len(heap) == 1\n",
    "assert heap.get_min() == 1\n",
    "heap.add(0) # [0 .. 1]\n",
    "assert len(heap) == 2\n",
    "assert heap.get_min() == 0\n",
    "heap.add(2) # [0 .. 1 2]\n",
    "assert len(heap) == 3\n",
    "assert heap.get_min() == 0\n",
    "heap.change(0, 4) # [1 .. 2 4]\n",
    "assert len(heap) == 3\n",
    "assert heap.get_min() == 1\n",
    "assert heap.pop() == 1 # [2 .. 4]\n",
    "assert len(heap) == 2\n",
    "assert heap.get_min() == 2\n",
    "heap.delete(2) # [4 .. ]\n",
    "assert len(heap) == 1\n",
    "assert heap.get_min() == 4\n",
    "heap.add(3) # [3 .. 4]\n",
    "heap.change(4, 1) # [1 .. 3]\n",
    "assert len(heap) == 2\n",
    "assert heap.get_min() == 1"
   ]
  },
  {
   "cell_type": "markdown",
   "metadata": {},
   "source": [
    "## Functions"
   ]
  },
  {
   "cell_type": "markdown",
   "metadata": {},
   "source": [
    "Useful for:\n",
    "1. Prevent code duplication\n",
    "2. Allow us to reason at a higher abtraction level\n",
    "3. Improve readability, maintainability sometimes\n",
    "\n",
    "Can think of it as a procedure that given some input, return some output + state change"
   ]
  },
  {
   "cell_type": "code",
   "execution_count": 48,
   "metadata": {},
   "outputs": [
    {
     "name": "stdout",
     "output_type": "stream",
     "text": [
      "[1, 2, 3, 1]\n"
     ]
    }
   ],
   "source": [
    "def add_one_to_arr(arr):\n",
    "    arr.append(1)\n",
    "    # implicit return None\n",
    "arr = [1, 2, 3]\n",
    "add_one_to_arr(arr)\n",
    "print(arr)"
   ]
  },
  {
   "cell_type": "code",
   "execution_count": 49,
   "metadata": {},
   "outputs": [
    {
     "name": "stdout",
     "output_type": "stream",
     "text": [
      "6\n"
     ]
    }
   ],
   "source": [
    "# Trick to pass fake pointer\n",
    "def add_one_to_int(x):\n",
    "    x[0] += 1\n",
    "\n",
    "x = [5] # wrap integer in arr\n",
    "add_one_to_int(x)\n",
    "print(x[0]) # access require unwrapping"
   ]
  },
  {
   "cell_type": "code",
   "execution_count": 50,
   "metadata": {},
   "outputs": [],
   "source": [
    "# variable arguments\n",
    "def concat_strings(*arr):\n",
    "    return \"\".join(arr)"
   ]
  },
  {
   "cell_type": "code",
   "execution_count": 51,
   "metadata": {},
   "outputs": [
    {
     "name": "stdout",
     "output_type": "stream",
     "text": [
      "a\n",
      "ab\n",
      "abc\n"
     ]
    }
   ],
   "source": [
    "print(concat_strings(\"a\"))\n",
    "print(concat_strings(\"a\", \"b\"))\n",
    "print(concat_strings(\"a\", \"b\", \"c\"))"
   ]
  },
  {
   "cell_type": "code",
   "execution_count": 52,
   "metadata": {},
   "outputs": [
    {
     "name": "stdout",
     "output_type": "stream",
     "text": [
      "144\n",
      "144\n"
     ]
    }
   ],
   "source": [
    "# lambdas\n",
    "# Anonymous function\n",
    "# I find it useful when I need to pass a function as argument\n",
    "# e.g. a lambda function to multiply all elements\n",
    "from functools import reduce\n",
    "def mult_a_b(a, b):\n",
    "    return a * b\n",
    "print(reduce(mult_a_b, [1, 2, 3, 4, 6]))\n",
    "print(reduce(lambda a, b: a * b, [1, 2, 3, 4, 6]))\n",
    "# as you can see, lambda is nothing but an anonymous function that can omit return\n",
    "# mult_a_b == lambda a, b: a * b"
   ]
  },
  {
   "cell_type": "markdown",
   "metadata": {},
   "source": [
    "## Classes"
   ]
  },
  {
   "cell_type": "markdown",
   "metadata": {},
   "source": [
    "Class is a blueprint for making object\n",
    "\n",
    "Object is collection of data and operations that can act on it\n",
    "\n",
    "It has the same benefits as functions. Most of the time, business logic can be well represented and implemented with classes"
   ]
  },
  {
   "cell_type": "code",
   "execution_count": 53,
   "metadata": {},
   "outputs": [],
   "source": [
    "class Dog:\n",
    "    \n",
    "    # constructor => defines the input needed to create object and object initialization logic\n",
    "    def __init__(self, age, weight, height):\n",
    "        # attributes of an object must prepend with self.\n",
    "        self.age = age\n",
    "        self.weight = weight\n",
    "        self.height = height\n",
    "    \n",
    "    # methods need the self\n",
    "    # calling other methods in class also need self\n",
    "    def bmi(self):\n",
    "        return self.weight / (self.height ** 2)\n",
    "    \n",
    "    def is_old(self):\n",
    "        return self.age >= 5\n",
    "    \n",
    "    # what you get when you print your dog\n",
    "    def __repr__(self):\n",
    "        return f\"Dog with age: {self.age}, weight: {self.weight}, height: {self.height}\""
   ]
  },
  {
   "cell_type": "code",
   "execution_count": 54,
   "metadata": {
    "scrolled": true
   },
   "outputs": [
    {
     "name": "stdout",
     "output_type": "stream",
     "text": [
      "Dog with age: 4, weight: 5, height: 7\n",
      "dog1's bmi is 0.102\n",
      "is dog1 old? False\n",
      "Dog with age: 5, weight: 7, height: 7\n",
      "dog2's bmi is 0.102\n",
      "is dog2 old? True\n"
     ]
    }
   ],
   "source": [
    "dog1 = Dog(4, 5, 7)\n",
    "print(dog1)\n",
    "print(f\"dog1's bmi is {dog1.bmi():.03}\")\n",
    "print(f\"is dog1 old? {dog1.is_old()}\")\n",
    "\n",
    "dog2 = Dog(5, 7, 7)\n",
    "print(dog2)\n",
    "print(f\"dog2's bmi is {dog1.bmi():.03}\")\n",
    "print(f\"is dog2 old? {dog2.is_old()}\")"
   ]
  },
  {
   "cell_type": "markdown",
   "metadata": {},
   "source": [
    "Example above is concerned with objects. Object creation, object attributes/variables and object methods\n",
    "\n",
    "Lets discuss more about class methods and variables"
   ]
  },
  {
   "cell_type": "code",
   "execution_count": 55,
   "metadata": {},
   "outputs": [],
   "source": [
    "class Bike:\n",
    "    \n",
    "    # class variable\n",
    "    discount_rate = 0\n",
    "    total_bikes = 0\n",
    "    \n",
    "    def __init__(self, model, price, is_second_hand):\n",
    "        self.model = model\n",
    "        self.price = price\n",
    "        self.is_second_hand = is_second_hand\n",
    "        Bike.total_bikes += 1\n",
    "    \n",
    "    def discounted_cost(self):\n",
    "        return self.price * (1 - Bike.discount_rate)\n",
    "    \n",
    "    def __repr__(self):\n",
    "        return f\"Model: {self.model}, Price: {self.price}, Is_second_hand: {self.is_second_hand}\"\n",
    "    \n",
    "    @classmethod\n",
    "    def set_discount_rate(cls, rate):\n",
    "        if not 0 <= rate <= 1:\n",
    "            raise Exception(\"Rate must be between 0 and 1\")\n",
    "        cls.discount_rate = rate\n",
    "        \n",
    "    @classmethod\n",
    "    def num_bikes(cls):\n",
    "        return cls.total_bikes"
   ]
  },
  {
   "cell_type": "code",
   "execution_count": 56,
   "metadata": {},
   "outputs": [
    {
     "name": "stdout",
     "output_type": "stream",
     "text": [
      "Model: A, Price: 23.0, Is_second_hand: False\n",
      "1\n",
      "Model: B, Price: 45.54, Is_second_hand: True\n",
      "2\n",
      "23.0\n",
      "45.54\n",
      "18.400000000000002\n",
      "36.432\n"
     ]
    }
   ],
   "source": [
    "bike1 = Bike(\"A\", 23.0, False)\n",
    "print(bike1)\n",
    "print(Bike.num_bikes())\n",
    "bike2 = Bike(\"B\", 45.54, True)\n",
    "print(bike2)\n",
    "print(Bike.num_bikes())\n",
    "print(bike1.discounted_cost())\n",
    "print(bike2.discounted_cost())\n",
    "Bike.set_discount_rate(0.2)\n",
    "print(bike1.discounted_cost())\n",
    "print(bike2.discounted_cost())"
   ]
  },
  {
   "cell_type": "markdown",
   "metadata": {},
   "source": [
    "To allow sorting on an iterable of custom objects, define the __lt__(self, other) method"
   ]
  },
  {
   "cell_type": "code",
   "execution_count": 57,
   "metadata": {},
   "outputs": [],
   "source": [
    "class Ball:\n",
    "    def __init__(self, size, weight):\n",
    "        self.size = size\n",
    "        self.weight = weight\n",
    "    \n",
    "    def __lt__(self, other):\n",
    "        if self.size == other.size:\n",
    "            return self.weight < other.weight\n",
    "        return self.size < other.size\n",
    "    \n",
    "    def __repr__(self):\n",
    "        return f\"size: {self.size}, weight: {self.weight}\""
   ]
  },
  {
   "cell_type": "code",
   "execution_count": 58,
   "metadata": {},
   "outputs": [
    {
     "name": "stdout",
     "output_type": "stream",
     "text": [
      "size: 0, weight: 7\n",
      "size: 0, weight: 10\n",
      "size: 0, weight: 15\n",
      "size: 2, weight: 14\n",
      "size: 2, weight: 14\n",
      "size: 4, weight: 4\n",
      "size: 4, weight: 6\n",
      "size: 4, weight: 18\n",
      "size: 5, weight: 8\n",
      "size: 5, weight: 16\n"
     ]
    }
   ],
   "source": [
    "import random\n",
    "balls = [Ball(random.randint(0, 5), random.randint(0, 20)) for i in range(10)]\n",
    "balls.sort()\n",
    "_ = [print(ball) for ball in balls]"
   ]
  },
  {
   "cell_type": "markdown",
   "metadata": {},
   "source": [
    "## Saving python objects using Pickle"
   ]
  },
  {
   "cell_type": "code",
   "execution_count": 59,
   "metadata": {},
   "outputs": [],
   "source": [
    "# https://stackoverflow.com/questions/11218477/how-can-i-use-pickle-to-save-a-dict\n",
    "import pickle\n",
    "\n",
    "a = {'hello': 'world'}\n",
    "\n",
    "# save/serialize\n",
    "with open('filename.pickle', 'wb') as handle:\n",
    "    pickle.dump(a, handle, protocol=pickle.HIGHEST_PROTOCOL)\n",
    "\n",
    "# load/deserialize\n",
    "with open('filename.pickle', 'rb') as handle:\n",
    "    b = pickle.load(handle)\n",
    "\n",
    "assert a == b"
   ]
  },
  {
   "cell_type": "markdown",
   "metadata": {},
   "source": [
    "## Saving python objects using JSON"
   ]
  },
  {
   "cell_type": "markdown",
   "metadata": {},
   "source": [
    "Only works when the object satisfies json\n",
    "\n",
    "If need to serialize custom object into json, there are some ways out there (google)"
   ]
  },
  {
   "cell_type": "code",
   "execution_count": 60,
   "metadata": {},
   "outputs": [],
   "source": [
    "import json\n",
    "\n",
    "# save/serialize\n",
    "with open(\"data_file.json\", \"w\") as write_file:\n",
    "    json.dump(a, write_file)\n",
    "\n",
    "# load/deserialize\n",
    "with open(\"data_file.json\", \"r\") as read_file:\n",
    "    b = json.load(read_file)\n",
    "    \n",
    "assert a == b"
   ]
  }
 ],
 "metadata": {
  "kernelspec": {
   "display_name": "Python 3",
   "language": "python",
   "name": "python3"
  },
  "language_info": {
   "codemirror_mode": {
    "name": "ipython",
    "version": 3
   },
   "file_extension": ".py",
   "mimetype": "text/x-python",
   "name": "python",
   "nbconvert_exporter": "python",
   "pygments_lexer": "ipython3",
   "version": "3.8.3"
  }
 },
 "nbformat": 4,
 "nbformat_minor": 4
}
